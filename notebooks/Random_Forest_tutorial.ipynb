{
 "cells": [
  {
   "cell_type": "markdown",
   "id": "8299427f",
   "metadata": {},
   "source": [
    "# Random_Forest Classification Tutorial\n",
    "Generated: 2025-09-13T01:20:38\n",
    "\n",
    "This notebook shows a complete, minimal workflow for **Random_Forest** on a synthetic binary classification dataset with 12 features.\n",
    "\n",
    "**What you'll do:**\n",
    "1. Load the dataset (`rf_data.csv`) with feature columns (`f1..f4`, `f8..f12`) and a `target` (0/1), removing `f5`, `f6`, and `f7`.\n",
    "2. Explore shapes and basic stats.\n",
    "3. Train/validation split.\n",
    "4. Preprocess (scaling where appropriate).\n",
    "5. Train a Random_Forest classifier with reasonable defaults.\n",
    "6. Evaluate with accuracy, precision, recall, F1, confusion matrix, ROC-AUC.\n",
    "7. Save the fitted model (optional).\n"
   ]
  },
  {
   "cell_type": "code",
   "execution_count": 20,
   "id": "dd59c64e",
   "metadata": {},
   "outputs": [
    {
     "name": "stdout",
     "output_type": "stream",
     "text": [
      "Shape: (800, 13)\n"
     ]
    },
    {
     "data": {
      "text/html": [
       "<div>\n",
       "<style scoped>\n",
       "    .dataframe tbody tr th:only-of-type {\n",
       "        vertical-align: middle;\n",
       "    }\n",
       "\n",
       "    .dataframe tbody tr th {\n",
       "        vertical-align: top;\n",
       "    }\n",
       "\n",
       "    .dataframe thead th {\n",
       "        text-align: right;\n",
       "    }\n",
       "</style>\n",
       "<table border=\"1\" class=\"dataframe\">\n",
       "  <thead>\n",
       "    <tr style=\"text-align: right;\">\n",
       "      <th></th>\n",
       "      <th>f1</th>\n",
       "      <th>f2</th>\n",
       "      <th>f3</th>\n",
       "      <th>f4</th>\n",
       "      <th>f5</th>\n",
       "      <th>f6</th>\n",
       "      <th>f7</th>\n",
       "      <th>f8</th>\n",
       "      <th>f9</th>\n",
       "      <th>f10</th>\n",
       "      <th>f11</th>\n",
       "      <th>f12</th>\n",
       "      <th>target</th>\n",
       "    </tr>\n",
       "  </thead>\n",
       "  <tbody>\n",
       "    <tr>\n",
       "      <th>0</th>\n",
       "      <td>0.064158</td>\n",
       "      <td>0.643436</td>\n",
       "      <td>-0.116613</td>\n",
       "      <td>-3.930766</td>\n",
       "      <td>-0.876913</td>\n",
       "      <td>3.329931</td>\n",
       "      <td>0.821510</td>\n",
       "      <td>-0.887043</td>\n",
       "      <td>0.364875</td>\n",
       "      <td>2.062348</td>\n",
       "      <td>-0.973381</td>\n",
       "      <td>-1.835838</td>\n",
       "      <td>0</td>\n",
       "    </tr>\n",
       "    <tr>\n",
       "      <th>1</th>\n",
       "      <td>2.334526</td>\n",
       "      <td>-2.090979</td>\n",
       "      <td>2.863759</td>\n",
       "      <td>-1.057278</td>\n",
       "      <td>1.519804</td>\n",
       "      <td>0.689141</td>\n",
       "      <td>-0.271289</td>\n",
       "      <td>-1.352438</td>\n",
       "      <td>-3.257142</td>\n",
       "      <td>3.604434</td>\n",
       "      <td>1.879144</td>\n",
       "      <td>-1.756925</td>\n",
       "      <td>0</td>\n",
       "    </tr>\n",
       "    <tr>\n",
       "      <th>2</th>\n",
       "      <td>-0.055248</td>\n",
       "      <td>1.342512</td>\n",
       "      <td>-2.668722</td>\n",
       "      <td>-0.924393</td>\n",
       "      <td>1.975963</td>\n",
       "      <td>7.456449</td>\n",
       "      <td>0.751483</td>\n",
       "      <td>-0.582545</td>\n",
       "      <td>-0.931834</td>\n",
       "      <td>3.237535</td>\n",
       "      <td>-1.047953</td>\n",
       "      <td>-0.816826</td>\n",
       "      <td>0</td>\n",
       "    </tr>\n",
       "    <tr>\n",
       "      <th>3</th>\n",
       "      <td>-1.004273</td>\n",
       "      <td>1.686469</td>\n",
       "      <td>-1.635486</td>\n",
       "      <td>-1.209205</td>\n",
       "      <td>0.490510</td>\n",
       "      <td>5.576028</td>\n",
       "      <td>-0.532679</td>\n",
       "      <td>-0.359932</td>\n",
       "      <td>0.600588</td>\n",
       "      <td>3.142366</td>\n",
       "      <td>-1.837934</td>\n",
       "      <td>-0.115482</td>\n",
       "      <td>0</td>\n",
       "    </tr>\n",
       "    <tr>\n",
       "      <th>4</th>\n",
       "      <td>-1.031121</td>\n",
       "      <td>-0.268962</td>\n",
       "      <td>-0.559229</td>\n",
       "      <td>-1.524212</td>\n",
       "      <td>-1.047046</td>\n",
       "      <td>0.247808</td>\n",
       "      <td>0.383200</td>\n",
       "      <td>-1.833488</td>\n",
       "      <td>2.450544</td>\n",
       "      <td>-1.073923</td>\n",
       "      <td>0.232561</td>\n",
       "      <td>-3.440025</td>\n",
       "      <td>0</td>\n",
       "    </tr>\n",
       "  </tbody>\n",
       "</table>\n",
       "</div>"
      ],
      "text/plain": [
       "         f1        f2        f3        f4        f5        f6        f7  \\\n",
       "0  0.064158  0.643436 -0.116613 -3.930766 -0.876913  3.329931  0.821510   \n",
       "1  2.334526 -2.090979  2.863759 -1.057278  1.519804  0.689141 -0.271289   \n",
       "2 -0.055248  1.342512 -2.668722 -0.924393  1.975963  7.456449  0.751483   \n",
       "3 -1.004273  1.686469 -1.635486 -1.209205  0.490510  5.576028 -0.532679   \n",
       "4 -1.031121 -0.268962 -0.559229 -1.524212 -1.047046  0.247808  0.383200   \n",
       "\n",
       "         f8        f9       f10       f11       f12  target  \n",
       "0 -0.887043  0.364875  2.062348 -0.973381 -1.835838       0  \n",
       "1 -1.352438 -3.257142  3.604434  1.879144 -1.756925       0  \n",
       "2 -0.582545 -0.931834  3.237535 -1.047953 -0.816826       0  \n",
       "3 -0.359932  0.600588  3.142366 -1.837934 -0.115482       0  \n",
       "4 -1.833488  2.450544 -1.073923  0.232561 -3.440025       0  "
      ]
     },
     "execution_count": 20,
     "metadata": {},
     "output_type": "execute_result"
    }
   ],
   "source": [
    "# Setup\n",
    "import pandas as pd\n",
    "import numpy as np\n",
    "\n",
    "from sklearn.model_selection import train_test_split\n",
    "from sklearn.metrics import accuracy_score, precision_score, recall_score, f1_score, roc_auc_score, confusion_matrix, classification_report, RocCurveDisplay\n",
    "\n",
    "import matplotlib.pyplot as plt\n",
    "\n",
    "# Load data\n",
    "data_path = \"../datasets/rf_data.csv\"\n",
    "df = pd.read_csv(data_path)\n",
    "\n",
    "print(\"Shape:\", df.shape)\n",
    "df.head()"
   ]
  },
  {
   "cell_type": "code",
   "execution_count": 21,
   "id": "5dc004e0",
   "metadata": {},
   "outputs": [
    {
     "name": "stdout",
     "output_type": "stream",
     "text": [
      "        count      mean       std       min       25%       50%       75%  \\\n",
      "f1      800.0 -0.045179  0.981126 -2.712649 -0.737013 -0.021858  0.608768   \n",
      "f2      800.0  0.209157  2.060820 -6.761401 -1.253276  0.107035  1.608137   \n",
      "f3      800.0 -0.620926  1.974062 -5.533230 -2.064046 -0.727003  0.895485   \n",
      "f4      800.0 -0.635029  1.955702 -6.225940 -1.976513 -0.726904  0.731267   \n",
      "f5      800.0 -0.049397  1.981277 -5.751637 -1.389944  0.192621  1.386933   \n",
      "f6      800.0  1.857155  2.938318 -7.378366  0.126764  1.984840  3.787977   \n",
      "f7      800.0 -0.000519  0.994062 -2.843389 -0.668581 -0.014159  0.695225   \n",
      "f8      800.0 -0.645795  1.936328 -5.610250 -1.981746 -0.734794  0.640068   \n",
      "f9      800.0  0.592416  1.980668 -5.757626 -0.668891  0.712932  1.954169   \n",
      "f10     800.0  1.136592  1.692773 -3.443793 -0.036962  1.137130  2.316004   \n",
      "f11     800.0 -0.743235  2.431158 -8.289013 -2.378517 -0.796776  0.860669   \n",
      "f12     800.0 -0.576695  1.832434 -6.135099 -1.798390 -0.678260  0.666790   \n",
      "target  800.0  0.446250  0.497414  0.000000  0.000000  0.000000  1.000000   \n",
      "\n",
      "             max  \n",
      "f1      3.370582  \n",
      "f2      6.382103  \n",
      "f3      4.486096  \n",
      "f4      5.090754  \n",
      "f5      5.870688  \n",
      "f6      9.175147  \n",
      "f7      3.042803  \n",
      "f8      5.930606  \n",
      "f9      6.494486  \n",
      "f10     7.722977  \n",
      "f11     7.385065  \n",
      "f12     4.447385  \n",
      "target  1.000000  \n",
      "\n",
      "Class distribution:\n",
      " target\n",
      "0    0.55375\n",
      "1    0.44625\n",
      "Name: proportion, dtype: float64\n"
     ]
    }
   ],
   "source": [
    "# Basic EDA\n",
    "print(df.describe().T)\n",
    "print(\"\\nClass distribution:\\n\", df['target'].value_counts(normalize=True).rename('proportion'))"
   ]
  },
  {
   "cell_type": "code",
   "execution_count": 22,
   "id": "2cce95b7",
   "metadata": {},
   "outputs": [
    {
     "data": {
      "text/plain": [
       "((640, 9), (160, 9))"
      ]
     },
     "execution_count": 22,
     "metadata": {},
     "output_type": "execute_result"
    }
   ],
   "source": [
    "# Train/Validation split\n",
    "X = df.drop(columns=['target', 'f5', 'f6', 'f7'])\n",
    "y = df['target']\n",
    "\n",
    "X_train, X_val, y_train, y_val = train_test_split(\n",
    "    X, y, test_size=0.2, random_state=123, stratify=y\n",
    ")\n",
    "\n",
    "X_train.shape, X_val.shape"
   ]
  },
  {
   "cell_type": "code",
   "execution_count": 23,
   "id": "b4aef522",
   "metadata": {},
   "outputs": [],
   "source": [
    "# Random Forest (ensemble of decision trees)\n",
    "from sklearn.ensemble import RandomForestClassifier\n",
    "\n",
    "clf = RandomForestClassifier(\n",
    "    n_estimators=300,\n",
    "    max_depth=None,\n",
    "    min_samples_split=10,\n",
    "    random_state=123,\n",
    "    n_jobs=-1\n",
    ")\n",
    "clf.fit(X_train, y_train)\n",
    "y_pred = clf.predict(X_val)\n",
    "y_proba = clf.predict_proba(X_val)[:, 1]"
   ]
  },
  {
   "cell_type": "code",
   "execution_count": 24,
   "id": "035b089c",
   "metadata": {},
   "outputs": [
    {
     "name": "stdout",
     "output_type": "stream",
     "text": [
      "Accuracy : 0.894\n",
      "Precision: 0.922\n",
      "Recall   : 0.831\n",
      "F1-score : 0.874\n",
      "ROC AUC  : 0.953\n",
      "\n",
      "Classification Report:\n",
      "               precision    recall  f1-score   support\n",
      "\n",
      "           0       0.88      0.94      0.91        89\n",
      "           1       0.92      0.83      0.87        71\n",
      "\n",
      "    accuracy                           0.89       160\n",
      "   macro avg       0.90      0.89      0.89       160\n",
      "weighted avg       0.90      0.89      0.89       160\n",
      "\n",
      "\n",
      "Confusion Matrix:\n",
      " [[84  5]\n",
      " [12 59]]\n"
     ]
    },
    {
     "data": {
      "image/png": "[encoded data removed]",
      "text/plain": [
       "<Figure size 640x480 with 1 Axes>"
      ]
     },
     "metadata": {},
     "output_type": "display_data"
    }
   ],
   "source": [
    "# Evaluation\n",
    "acc = accuracy_score(y_val, y_pred)\n",
    "prec = precision_score(y_val, y_pred)\n",
    "rec = recall_score(y_val, y_pred)\n",
    "f1 = f1_score(y_val, y_pred)\n",
    "auc = roc_auc_score(y_val, y_proba)\n",
    "\n",
    "print(f\"Accuracy : {acc:.3f}\")\n",
    "print(f\"Precision: {prec:.3f}\")\n",
    "print(f\"Recall   : {rec:.3f}\")\n",
    "print(f\"F1-score : {f1:.3f}\")\n",
    "print(f\"ROC AUC  : {auc:.3f}\")\n",
    "\n",
    "print(\"\\nClassification Report:\\n\", classification_report(y_val, y_pred))\n",
    "\n",
    "# Confusion matrix\n",
    "cm = confusion_matrix(y_val, y_pred)\n",
    "print(\"\\nConfusion Matrix:\\n\", cm)\n",
    "\n",
    "# ROC Curve (uses matplotlib; no style or color specified)\n",
    "RocCurveDisplay.from_predictions(y_val, y_proba)\n",
    "plt.title(\"ROC Curve\")\n",
    "plt.show()"
   ]
  },
  {
   "cell_type": "code",
   "execution_count": 25,
   "id": "8557b20c",
   "metadata": {},
   "outputs": [],
   "source": [
    "# (Optional) Save model with joblib for later reuse\n",
    "# Uncomment to persist\n",
    "# import joblib\n",
    "# joblib.dump(clf if 'clf' in globals() else pipe, \"model.joblib\")\n"
   ]
  }
 ],
 "metadata": {
  "kernelspec": {
   "display_name": ".venv",
   "language": "python",
   "name": "python3"
  },
  "language_info": {
   "codemirror_mode": {
    "name": "ipython",
    "version": 3
   },
   "file_extension": ".py",
   "mimetype": "text/x-python",
   "name": "python",
   "nbconvert_exporter": "python",
   "pygments_lexer": "ipython3",
   "version": "3.13.3"
  }
 },
 "nbformat": 4,
 "nbformat_minor": 5
}
