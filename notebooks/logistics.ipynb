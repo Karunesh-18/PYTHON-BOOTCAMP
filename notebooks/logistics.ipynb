{
 "cells": [
  {
   "cell_type": "markdown",
   "id": "e141a1f4",
   "metadata": {},
   "source": [
    "# Logistic Regression Analysis\n",
    "This notebook converts the original `logistics.py` script into a Jupyter workflow, segregating code and adding relevant notes for each section."
   ]
  }
 ],
 "metadata": {
  "language_info": {
   "name": "python"
  }
 },
 "nbformat": 4,
 "nbformat_minor": 5
}
