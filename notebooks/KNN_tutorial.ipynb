{
 "cells": [
  {
   "cell_type": "markdown",
   "id": "0ed648f1",
   "metadata": {},
   "source": [
    "# KNN Classification Tutorial\n",
    "Generated: 2025-09-13T01:20:38\n",
    "\n",
    "This notebook shows a complete, minimal workflow for **KNN** on a synthetic binary classification dataset with 12 features.\n",
    "\n",
    "**What you'll do:**\n",
    "1. Load the dataset (`knn_data.csv`) with 12 feature columns (`f1..f12`) and a `target` (0/1).\n",
    "2. Explore shapes and basic stats.\n",
    "3. Train/validation split.\n",
    "4. Preprocess (scaling where appropriate).\n",
    "5. Train a KNN classifier with reasonable defaults.\n",
    "6. Evaluate with accuracy, precision, recall, F1, confusion matrix, ROC-AUC.\n",
    "7. Save the fitted model (optional).\n"
   ]
  },
  {
   "cell_type": "code",
   "execution_count": null,
   "id": "9ad21167",
   "metadata": {},
   "outputs": [],
   "source": [
    "# Setup\n",
    "import pandas as pd\n",
    "import numpy as np\n",
    "\n",
    "from sklearn.model_selection import train_test_split\n",
    "from sklearn.metrics import accuracy_score, precision_score, recall_score, f1_score, roc_auc_score, confusion_matrix, classification_report, RocCurveDisplay\n",
    "\n",
    "import matplotlib.pyplot as plt\n",
    "\n",
    "# Load data\n",
    "data_path = \"../datasets/knn_data.csv\"\n",
    "df = pd.read_csv(data_path)\n",
    "\n",
    "print(\"Shape:\", df.shape)\n",
    "df.head()"
   ]
  },
  {
   "cell_type": "code",
   "execution_count": null,
   "id": "10dfca23",
   "metadata": {},
   "outputs": [],
   "source": [
    "# Basic EDA\n",
    "print(df.describe().T)\n",
    "print(\"\\nClass distribution:\\n\", df['target'].value_counts(normalize=True).rename('proportion'))"
   ]
  },
  {
   "cell_type": "code",
   "execution_count": null,
   "id": "4b048858",
   "metadata": {},
   "outputs": [],
   "source": [
    "# Train/Validation split\n",
    "X = df.drop(columns=['target'])\n",
    "y = df['target']\n",
    "\n",
    "X_train, X_val, y_train, y_val = train_test_split(\n",
    "    X, y, test_size=0.2, random_state=123, stratify=y\n",
    ")\n",
    "\n",
    "X_train.shape, X_val.shape"
   ]
  },
  {
   "cell_type": "code",
   "execution_count": null,
   "id": "f73343ed",
   "metadata": {},
   "outputs": [],
   "source": [
    "# Scaling is important for distance-based models like KNN\n",
    "from sklearn.preprocessing import StandardScaler\n",
    "from sklearn.neighbors import KNeighborsClassifier\n",
    "from sklearn.pipeline import Pipeline\n",
    "\n",
    "pipe = Pipeline([\n",
    "    (\"scaler\", StandardScaler()),\n",
    "    (\"clf\", KNeighborsClassifier(n_neighbors=7))\n",
    "])\n",
    "\n",
    "pipe.fit(X_train, y_train)\n",
    "y_pred = pipe.predict(X_val)\n",
    "y_proba = pipe.predict_proba(X_val)[:, 1]"
   ]
  },
  {
   "cell_type": "code",
   "execution_count": null,
   "id": "cf7087c9",
   "metadata": {},
   "outputs": [],
   "source": [
    "# Evaluation\n",
    "acc = accuracy_score(y_val, y_pred)\n",
    "prec = precision_score(y_val, y_pred)\n",
    "rec = recall_score(y_val, y_pred)\n",
    "f1 = f1_score(y_val, y_pred)\n",
    "auc = roc_auc_score(y_val, y_proba)\n",
    "\n",
    "print(f\"Accuracy : {acc:.3f}\")\n",
    "print(f\"Precision: {prec:.3f}\")\n",
    "print(f\"Recall   : {rec:.3f}\")\n",
    "print(f\"F1-score : {f1:.3f}\")\n",
    "print(f\"ROC AUC  : {auc:.3f}\")\n",
    "\n",
    "print(\"\\nClassification Report:\\n\", classification_report(y_val, y_pred))\n",
    "\n",
    "# Confusion matrix\n",
    "cm = confusion_matrix(y_val, y_pred)\n",
    "print(\"\\nConfusion Matrix:\\n\", cm)\n",
    "\n",
    "# ROC Curve (uses matplotlib; no style or color specified)\n",
    "RocCurveDisplay.from_predictions(y_val, y_proba)\n",
    "plt.title(\"ROC Curve\")\n",
    "plt.show()"
   ]
  },
  {
   "cell_type": "code",
   "execution_count": null,
   "id": "5ac07737",
   "metadata": {},
   "outputs": [],
   "source": [
    "# (Optional) Save model with joblib for later reuse\n",
    "# Uncomment to persist\n",
    "# import joblib\n",
    "# joblib.dump(clf if 'clf' in globals() else pipe, \"model.joblib\")\n"
   ]
  }
 ],
 "metadata": {
  "kernelspec": {
   "display_name": ".venv",
   "language": "python",
   "name": "python3"
  },
  "language_info": {
   "codemirror_mode": {
    "name": "ipython",
    "version": 3
   },
   "file_extension": ".py",
   "mimetype": "text/x-python",
   "name": "python",
   "nbconvert_exporter": "python",
   "pygments_lexer": "ipython3",
   "version": "3.13.3"
  }
 },
 "nbformat": 4,
 "nbformat_minor": 5
}
