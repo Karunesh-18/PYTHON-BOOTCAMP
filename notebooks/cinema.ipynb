{
 "cells": [
  {
   "cell_type": "markdown",
   "id": "36f898d1",
   "metadata": {},
   "source": [
    "# Tamil Cinema Dataset Analysis\n",
    "This notebook provides a step-by-step analysis of the Tamil cinema dataset, with code and explanations for each step."
   ]
  },
  {
   "cell_type": "code",
   "execution_count": null,
   "id": "1aae87fe",
   "metadata": {},
   "outputs": [
    {
     "name": "stdout",
     "output_type": "stream",
     "text": [
      "Rows, Cols: (30, 12)\n",
      "<class 'pandas.core.frame.DataFrame'>\n",
      "RangeIndex: 30 entries, 0 to 29\n",
      "Data columns (total 12 columns):\n",
      " #   Column                 Non-Null Count  Dtype  \n",
      "---  ------                 --------------  -----  \n",
      " 0   title                  30 non-null     object \n",
      " 1   year                   30 non-null     int64  \n",
      " 2   genre                  30 non-null     object \n",
      " 3   star_power             30 non-null     int64  \n",
      " 4   director_popularity    30 non-null     int64  \n",
      " 5   budget_crore           30 non-null     float64\n",
      " 6   screens                30 non-null     int64  \n",
      " 7   runtime_min            30 non-null     int64  \n",
      " 8   imdb_rating            30 non-null     float64\n",
      " 9   opening_weekend_crore  30 non-null     float64\n",
      " 10  box_office_crore       30 non-null     float64\n",
      " 11  random_notes           30 non-null     int64  \n",
      "dtypes: float64(4), int64(6), object(2)\n",
      "memory usage: 2.9+ KB\n",
      "\n",
      "Missing values per column:\n",
      " title                    0\n",
      "year                     0\n",
      "genre                    0\n",
      "star_power               0\n",
      "director_popularity      0\n",
      "budget_crore             0\n",
      "screens                  0\n",
      "runtime_min              0\n",
      "imdb_rating              0\n",
      "opening_weekend_crore    0\n",
      "box_office_crore         0\n",
      "random_notes             0\n",
      "dtype: int64\n"
     ]
    }
   ],
   "source": [
    "import pandas as pd\n",
    "import numpy as np\n",
    "import matplotlib.pyplot as plt\n",
    "\n",
    "# Load the Tamil cinema dataset\n",
    "df = pd.read_csv('../datasets/tamil_cinema_dataset.csv')\n",
    "print('Rows, Cols:', df.shape)\n",
    "df.head()\n",
    "df.info()\n",
    "print('\\nMissing values per column:\\n', df.isna().sum())"
   ]
  },
  {
   "cell_type": "markdown",
   "id": "270c76f2",
   "metadata": {},
   "source": [
    "## Data Loading and Inspection\n",
    "This cell loads the Tamil cinema dataset and provides a quick overview, including shape, missing values, and basic info."
   ]
  },
  {
   "cell_type": "code",
   "execution_count": 2,
   "id": "c93633d0",
   "metadata": {},
   "outputs": [],
   "source": [
    "# Clean text columns if present\n",
    "def clean_text(x):\n",
    "    if pd.isna(x):\n",
    "        return x\n",
    "    s = str(x).strip()\n",
    "    s = \" \".join(s.split())\n",
    "    return s\n",
    "\n",
    "for col in [\"gender\", \"city\"]:\n",
    "    if col in df.columns:\n",
    "        df[col] = df[col].apply(clean_text)\n",
    "        df[col] = df[col].str.title()"
   ]
  },
  {
   "cell_type": "markdown",
   "id": "72e05b1b",
   "metadata": {},
   "source": [
    "## Cleaning Text Columns\n",
    "This cell cleans and standardizes text columns such as 'gender' and 'city' for consistency in analysis."
   ]
  },
  {
   "cell_type": "code",
   "execution_count": 3,
   "id": "afc9268b",
   "metadata": {},
   "outputs": [
    {
     "name": "stdout",
     "output_type": "stream",
     "text": [
      "Removed 0 duplicate rows\n"
     ]
    }
   ],
   "source": [
    "# Remove duplicates\n",
    "before = df.shape[0]\n",
    "df = df.drop_duplicates()\n",
    "after = df.shape[0]\n",
    "print(f\"Removed {before - after} duplicate rows\")"
   ]
  },
  {
   "cell_type": "markdown",
   "id": "63659e33",
   "metadata": {},
   "source": [
    "## Removing Duplicates\n",
    "This cell removes duplicate rows from the Tamil cinema dataset to ensure data quality."
   ]
  },
  {
   "cell_type": "code",
   "execution_count": 4,
   "id": "8c651c3e",
   "metadata": {},
   "outputs": [],
   "source": [
    "# Drop irrelevant/noisy column if present\n",
    "if 'random_notes' in df.columns:\n",
    "    df = df.drop(columns=['random_notes'])"
   ]
  },
  {
   "cell_type": "markdown",
   "id": "1c8c54f3",
   "metadata": {},
   "source": [
    "## Dropping Irrelevant Columns\n",
    "This cell removes columns that are not useful for analysis, such as 'random_notes'."
   ]
  },
  {
   "cell_type": "code",
   "execution_count": 5,
   "id": "92337ab7",
   "metadata": {},
   "outputs": [
    {
     "name": "stdout",
     "output_type": "stream",
     "text": [
      "MSE: 464.61\n",
      "RMSE: 21.55\n",
      "MAE: 17.60\n",
      "R^2: 0.924\n",
      "   actual_box_office  predicted_box_office\n",
      "0              246.6            289.439535\n",
      "1              330.2            321.088545\n",
      "2              123.5            120.425230\n",
      "3              283.8            265.857544\n",
      "4              373.7            391.582833\n",
      "5              283.8            269.028091\n"
     ]
    },
    {
     "data": {
      "image/png": "[encoded data removed]",
      "text/plain": [
       "<Figure size 640x480 with 1 Axes>"
      ]
     },
     "metadata": {},
     "output_type": "display_data"
    }
   ],
   "source": [
    "# Feature Engineering and Modeling\n",
    "if {'star_power', 'director_popularity', 'budget_crore', 'screens'}.issubset(df.columns):\n",
    "    df['star_dir_combo'] = df['star_power'] * df['director_popularity']\n",
    "    df['budget_per_screen'] = (df['budget_crore'] / (df['screens'].replace(0, np.nan))).fillna(0)\n",
    "\n",
    "    num_features = ['year', 'star_power', 'director_popularity', 'budget_crore',\n",
    "                    'screens', 'runtime_min', 'imdb_rating', 'opening_weekend_crore',\n",
    "                    'star_dir_combo', 'budget_per_screen']\n",
    "    cat_features = ['genre']\n",
    "    num_features = [col for col in num_features if col in df.columns]\n",
    "    cat_features = [col for col in cat_features if col in df.columns]\n",
    "    X = df[num_features + cat_features]\n",
    "    y = df['box_office_crore']\n",
    "\n",
    "    from sklearn.compose import ColumnTransformer\n",
    "    from sklearn.pipeline import Pipeline\n",
    "    from sklearn.linear_model import LinearRegression\n",
    "    from sklearn.model_selection import train_test_split\n",
    "    from sklearn.metrics import mean_squared_error, r2_score, mean_absolute_error\n",
    "    from sklearn.preprocessing import OneHotEncoder\n",
    "\n",
    "    preprocess = ColumnTransformer(\n",
    "        transformers=[\n",
    "            ('cat', OneHotEncoder(handle_unknown='ignore'), cat_features)\n",
    "        ],\n",
    "        remainder='passthrough'\n",
    "    )\n",
    "    pipe = Pipeline(steps=[\n",
    "        ('prep', preprocess),\n",
    "        ('model', LinearRegression())\n",
    "    ])\n",
    "    X_train, X_test, y_train, y_test = train_test_split(\n",
    "        X, y, test_size=0.2, random_state=42\n",
    "    )\n",
    "    pipe.fit(X_train, y_train)\n",
    "    y_pred = pipe.predict(X_test)\n",
    "    mse = mean_squared_error(y_test, y_pred)\n",
    "    rmse = np.sqrt(mean_squared_error(y_test, y_pred))\n",
    "    mae = mean_absolute_error(y_test, y_pred)\n",
    "    r2 = r2_score(y_test, y_pred)\n",
    "    print(f\"MSE: {mse:.2f}\")\n",
    "    print(f\"RMSE: {rmse:.2f}\")\n",
    "    print(f\"MAE: {mae:.2f}\")\n",
    "    print(f\"R^2: {r2:.3f}\")\n",
    "    preds = pd.DataFrame({\n",
    "        'actual_box_office': y_test.values,\n",
    "        'predicted_box_office': y_pred\n",
    "    })\n",
    "    print(preds.head(10))\n",
    "    plt.figure()\n",
    "    plt.scatter(y_test, y_pred)\n",
    "    plt.xlabel('Actual Box Office (crore)')\n",
    "    plt.ylabel('Predicted Box Office (crore)')\n",
    "    plt.title('Tamil Cinema: Actual vs Predicted Box Office')\n",
    "    plt.show()\n",
    "else:\n",
    "    print(\"Required columns for feature engineering are missing.\")"
   ]
  },
  {
   "cell_type": "markdown",
   "id": "4f189c57",
   "metadata": {},
   "source": [
    "## Feature Engineering and Modeling\n",
    "This cell performs feature engineering, builds a regression pipeline, trains the model, and visualizes actual vs predicted box office results."
   ]
  }
 ],
 "metadata": {
  "kernelspec": {
   "display_name": ".venv",
   "language": "python",
   "name": "python3"
  },
  "language_info": {
   "codemirror_mode": {
    "name": "ipython",
    "version": 3
   },
   "file_extension": ".py",
   "mimetype": "text/x-python",
   "name": "python",
   "nbconvert_exporter": "python",
   "pygments_lexer": "ipython3",
   "version": "3.13.3"
  }
 },
 "nbformat": 4,
 "nbformat_minor": 5
}
