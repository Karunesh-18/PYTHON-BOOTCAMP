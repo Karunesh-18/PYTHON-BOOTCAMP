{
 "cells": [
  {
   "cell_type": "markdown",
   "id": "3511bffb",
   "metadata": {},
   "source": [
    "# Decision_Tree Classification Tutorial\n",
    "Generated: 2025-09-13T01:20:38\n",
    "\n",
    "This notebook shows a complete, minimal workflow for **Decision_Tree** on a synthetic binary classification dataset with 12 features.\n",
    "\n",
    "**What you'll do:**\n",
    "1. Load the dataset (`dt_data.csv`) with 12 feature columns (`f1..f12`) and a `target` (0/1).\n",
    "2. Explore shapes and basic stats.\n",
    "3. Train/validation split.\n",
    "4. Preprocess (scaling where appropriate).\n",
    "5. Train a Decision_Tree classifier with reasonable defaults.\n",
    "6. Evaluate with accuracy, precision, recall, F1, confusion matrix, ROC-AUC.\n",
    "7. Save the fitted model (optional).\n"
   ]
  },
  {
   "cell_type": "code",
   "execution_count": 19,
   "id": "7536180c",
   "metadata": {},
   "outputs": [
    {
     "name": "stdout",
     "output_type": "stream",
     "text": [
      "Shape: (800, 13)\n"
     ]
    },
    {
     "data": {
      "text/html": [
       "<div>\n",
       "<style scoped>\n",
       "    .dataframe tbody tr th:only-of-type {\n",
       "        vertical-align: middle;\n",
       "    }\n",
       "\n",
       "    .dataframe tbody tr th {\n",
       "        vertical-align: top;\n",
       "    }\n",
       "\n",
       "    .dataframe thead th {\n",
       "        text-align: right;\n",
       "    }\n",
       "</style>\n",
       "<table border=\"1\" class=\"dataframe\">\n",
       "  <thead>\n",
       "    <tr style=\"text-align: right;\">\n",
       "      <th></th>\n",
       "      <th>f1</th>\n",
       "      <th>f2</th>\n",
       "      <th>f3</th>\n",
       "      <th>f4</th>\n",
       "      <th>f5</th>\n",
       "      <th>f6</th>\n",
       "      <th>f7</th>\n",
       "      <th>f8</th>\n",
       "      <th>f9</th>\n",
       "      <th>f10</th>\n",
       "      <th>f11</th>\n",
       "      <th>f12</th>\n",
       "      <th>target</th>\n",
       "    </tr>\n",
       "  </thead>\n",
       "  <tbody>\n",
       "    <tr>\n",
       "      <th>0</th>\n",
       "      <td>3.231818</td>\n",
       "      <td>3.342242</td>\n",
       "      <td>3.170904</td>\n",
       "      <td>-1.143316</td>\n",
       "      <td>1.118764</td>\n",
       "      <td>-0.461158</td>\n",
       "      <td>1.350986</td>\n",
       "      <td>-4.232194</td>\n",
       "      <td>-1.952545</td>\n",
       "      <td>1.530323</td>\n",
       "      <td>1.783189</td>\n",
       "      <td>0.429053</td>\n",
       "      <td>0</td>\n",
       "    </tr>\n",
       "    <tr>\n",
       "      <th>1</th>\n",
       "      <td>-2.001479</td>\n",
       "      <td>-2.055830</td>\n",
       "      <td>-1.088576</td>\n",
       "      <td>2.311383</td>\n",
       "      <td>2.210255</td>\n",
       "      <td>-0.632016</td>\n",
       "      <td>0.213387</td>\n",
       "      <td>0.132520</td>\n",
       "      <td>-1.839323</td>\n",
       "      <td>-1.319074</td>\n",
       "      <td>2.762408</td>\n",
       "      <td>-0.625631</td>\n",
       "      <td>1</td>\n",
       "    </tr>\n",
       "    <tr>\n",
       "      <th>2</th>\n",
       "      <td>3.195935</td>\n",
       "      <td>1.768784</td>\n",
       "      <td>2.937066</td>\n",
       "      <td>-2.571942</td>\n",
       "      <td>1.367319</td>\n",
       "      <td>0.878246</td>\n",
       "      <td>3.710392</td>\n",
       "      <td>2.330900</td>\n",
       "      <td>2.686562</td>\n",
       "      <td>-0.269503</td>\n",
       "      <td>-2.464667</td>\n",
       "      <td>-0.173651</td>\n",
       "      <td>0</td>\n",
       "    </tr>\n",
       "    <tr>\n",
       "      <th>3</th>\n",
       "      <td>1.499780</td>\n",
       "      <td>-2.983864</td>\n",
       "      <td>-0.606378</td>\n",
       "      <td>-0.787348</td>\n",
       "      <td>-1.084954</td>\n",
       "      <td>1.572479</td>\n",
       "      <td>0.888036</td>\n",
       "      <td>0.494976</td>\n",
       "      <td>1.643795</td>\n",
       "      <td>-2.872902</td>\n",
       "      <td>-0.587353</td>\n",
       "      <td>-1.758593</td>\n",
       "      <td>0</td>\n",
       "    </tr>\n",
       "    <tr>\n",
       "      <th>4</th>\n",
       "      <td>1.338514</td>\n",
       "      <td>-0.559925</td>\n",
       "      <td>1.093819</td>\n",
       "      <td>-2.132901</td>\n",
       "      <td>0.932437</td>\n",
       "      <td>0.971042</td>\n",
       "      <td>2.602676</td>\n",
       "      <td>1.660926</td>\n",
       "      <td>0.264757</td>\n",
       "      <td>-2.086844</td>\n",
       "      <td>-0.819115</td>\n",
       "      <td>0.269144</td>\n",
       "      <td>0</td>\n",
       "    </tr>\n",
       "  </tbody>\n",
       "</table>\n",
       "</div>"
      ],
      "text/plain": [
       "         f1        f2        f3        f4        f5        f6        f7  \\\n",
       "0  3.231818  3.342242  3.170904 -1.143316  1.118764 -0.461158  1.350986   \n",
       "1 -2.001479 -2.055830 -1.088576  2.311383  2.210255 -0.632016  0.213387   \n",
       "2  3.195935  1.768784  2.937066 -2.571942  1.367319  0.878246  3.710392   \n",
       "3  1.499780 -2.983864 -0.606378 -0.787348 -1.084954  1.572479  0.888036   \n",
       "4  1.338514 -0.559925  1.093819 -2.132901  0.932437  0.971042  2.602676   \n",
       "\n",
       "         f8        f9       f10       f11       f12  target  \n",
       "0 -4.232194 -1.952545  1.530323  1.783189  0.429053       0  \n",
       "1  0.132520 -1.839323 -1.319074  2.762408 -0.625631       1  \n",
       "2  2.330900  2.686562 -0.269503 -2.464667 -0.173651       0  \n",
       "3  0.494976  1.643795 -2.872902 -0.587353 -1.758593       0  \n",
       "4  1.660926  0.264757 -2.086844 -0.819115  0.269144       0  "
      ]
     },
     "execution_count": 19,
     "metadata": {},
     "output_type": "execute_result"
    }
   ],
   "source": [
    "# Setup\n",
    "import pandas as pd\n",
    "import numpy as np\n",
    "\n",
    "from sklearn.model_selection import train_test_split\n",
    "from sklearn.metrics import accuracy_score, precision_score, recall_score, f1_score, roc_auc_score, confusion_matrix, classification_report, RocCurveDisplay\n",
    "\n",
    "import matplotlib.pyplot as plt\n",
    "\n",
    "# Load data\n",
    "data_path = \"../datasets/dt_data.csv\"\n",
    "df = pd.read_csv(data_path)\n",
    "\n",
    "print(\"Shape:\", df.shape)\n",
    "df.head()"
   ]
  },
  {
   "cell_type": "code",
   "execution_count": 20,
   "id": "cf6388ca",
   "metadata": {},
   "outputs": [
    {
     "name": "stdout",
     "output_type": "stream",
     "text": [
      "        count      mean       std        min       25%       50%       75%  \\\n",
      "f1      800.0  0.063440  2.169906  -6.795297 -1.418810  0.273335  1.671035   \n",
      "f2      800.0 -0.003246  2.183722  -6.655978 -1.574302 -0.053776  1.529525   \n",
      "f3      800.0  0.643789  1.880851  -4.332311 -0.626606  0.653578  1.964293   \n",
      "f4      800.0 -0.762459  1.833508  -5.443321 -1.970739 -0.776120  0.385978   \n",
      "f5      800.0 -0.029156  1.941277  -6.889304 -1.354848  0.084058  1.269699   \n",
      "f6      800.0 -0.035964  0.990049  -2.467159 -0.728794 -0.084972  0.650251   \n",
      "f7      800.0  0.099234  2.136929  -6.367211 -1.184647  0.366256  1.526186   \n",
      "f8      800.0  0.442011  3.344602 -10.637364 -1.561974  0.327103  2.349404   \n",
      "f9      800.0  0.706821  1.952545  -4.463133 -0.644132  0.752426  1.971816   \n",
      "f10     800.0  1.463012  4.109045 -10.039857 -1.602128  1.360284  4.333170   \n",
      "f11     800.0  0.505858  1.827922  -4.277233 -0.820524  0.531990  1.817336   \n",
      "f12     800.0  0.011642  0.993152  -2.985309 -0.636568  0.019712  0.653475   \n",
      "target  800.0  0.451250  0.497929   0.000000  0.000000  0.000000  1.000000   \n",
      "\n",
      "              max  \n",
      "f1       5.614111  \n",
      "f2       7.500864  \n",
      "f3       6.475741  \n",
      "f4       4.991166  \n",
      "f5       6.318779  \n",
      "f6       3.617697  \n",
      "f7       5.397686  \n",
      "f8      12.661193  \n",
      "f9       8.964892  \n",
      "f10     15.165410  \n",
      "f11      6.767845  \n",
      "f12      3.043868  \n",
      "target   1.000000  \n",
      "\n",
      "Class distribution:\n",
      " target\n",
      "0    0.54875\n",
      "1    0.45125\n",
      "Name: proportion, dtype: float64\n"
     ]
    }
   ],
   "source": [
    "# Basic EDA\n",
    "print(df.describe().T)\n",
    "print(\"\\nClass distribution:\\n\", df['target'].value_counts(normalize=True).rename('proportion'))"
   ]
  },
  {
   "cell_type": "code",
   "execution_count": 21,
   "id": "40187159",
   "metadata": {},
   "outputs": [
    {
     "data": {
      "text/plain": [
       "((560, 12), (240, 12))"
      ]
     },
     "execution_count": 21,
     "metadata": {},
     "output_type": "execute_result"
    }
   ],
   "source": [
    "# Train/Validation split\n",
    "X = df.drop(columns=['target'])\n",
    "y = df['target']\n",
    "\n",
    "X_train, X_val, y_train, y_val = train_test_split(\n",
    "    X, y, test_size=0.3, random_state=123, stratify=y\n",
    ")\n",
    "\n",
    "X_train.shape, X_val.shape"
   ]
  },
  {
   "cell_type": "code",
   "execution_count": 22,
   "id": "eb202a94",
   "metadata": {},
   "outputs": [],
   "source": [
    "# Decision Tree (no scaling needed)\n",
    "from sklearn.tree import DecisionTreeClassifier\n",
    "\n",
    "clf = DecisionTreeClassifier(\n",
    "    max_depth=6,\n",
    "    min_samples_split=10,\n",
    "    random_state=123\n",
    ")\n",
    "clf.fit(X_train, y_train)\n",
    "y_pred = clf.predict(X_val)\n",
    "# DecisionTreeClassifier supports predict_proba\n",
    "y_proba = clf.predict_proba(X_val)[:, 1]"
   ]
  },
  {
   "cell_type": "code",
   "execution_count": 23,
   "id": "77125f0c",
   "metadata": {},
   "outputs": [
    {
     "name": "stdout",
     "output_type": "stream",
     "text": [
      "Accuracy : 0.850\n",
      "Precision: 0.840\n",
      "Recall   : 0.824\n",
      "F1-score : 0.832\n",
      "ROC AUC  : 0.916\n",
      "\n",
      "Classification Report:\n",
      "               precision    recall  f1-score   support\n",
      "\n",
      "           0       0.86      0.87      0.86       132\n",
      "           1       0.84      0.82      0.83       108\n",
      "\n",
      "    accuracy                           0.85       240\n",
      "   macro avg       0.85      0.85      0.85       240\n",
      "weighted avg       0.85      0.85      0.85       240\n",
      "\n",
      "\n",
      "Confusion Matrix:\n",
      " [[115  17]\n",
      " [ 19  89]]\n"
     ]
    },
    {
     "data": {
      "image/png": "[encoded data removed]",
      "text/plain": [
       "<Figure size 640x480 with 1 Axes>"
      ]
     },
     "metadata": {},
     "output_type": "display_data"
    }
   ],
   "source": [
    "# Evaluation\n",
    "acc = accuracy_score(y_val, y_pred)\n",
    "prec = precision_score(y_val, y_pred)\n",
    "rec = recall_score(y_val, y_pred)\n",
    "f1 = f1_score(y_val, y_pred)\n",
    "auc = roc_auc_score(y_val, y_proba)\n",
    "\n",
    "print(f\"Accuracy : {acc:.3f}\")\n",
    "print(f\"Precision: {prec:.3f}\")\n",
    "print(f\"Recall   : {rec:.3f}\")\n",
    "print(f\"F1-score : {f1:.3f}\")\n",
    "print(f\"ROC AUC  : {auc:.3f}\")\n",
    "\n",
    "print(\"\\nClassification Report:\\n\", classification_report(y_val, y_pred))\n",
    "\n",
    "# Confusion matrix\n",
    "cm = confusion_matrix(y_val, y_pred)\n",
    "print(\"\\nConfusion Matrix:\\n\", cm)\n",
    "\n",
    "# ROC Curve (uses matplotlib; no style or color specified)\n",
    "RocCurveDisplay.from_predictions(y_val, y_proba)\n",
    "plt.title(\"ROC Curve\")\n",
    "plt.show()"
   ]
  },
  {
   "cell_type": "code",
   "execution_count": 24,
   "id": "940af47f",
   "metadata": {},
   "outputs": [],
   "source": [
    "# (Optional) Save model with joblib for later reuse\n",
    "# Uncomment to persist\n",
    "# import joblib\n",
    "# joblib.dump(clf if 'clf' in globals() else pipe, \"model.joblib\")\n"
   ]
  }
 ],
 "metadata": {
  "kernelspec": {
   "display_name": ".venv",
   "language": "python",
   "name": "python3"
  },
  "language_info": {
   "codemirror_mode": {
    "name": "ipython",
    "version": 3
   },
   "file_extension": ".py",
   "mimetype": "text/x-python",
   "name": "python",
   "nbconvert_exporter": "python",
   "pygments_lexer": "ipython3",
   "version": "3.13.3"
  }
 },
 "nbformat": 4,
 "nbformat_minor": 5
}
