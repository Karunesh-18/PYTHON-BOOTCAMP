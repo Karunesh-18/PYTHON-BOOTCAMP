{
 "cells": [
  {
   "cell_type": "markdown",
   "id": "15f0ea43",
   "metadata": {},
   "source": [
    "# Insurance Dataset Analysis\n",
    "This notebook provides a step-by-step analysis of the insurance dataset, with code and explanations for each step."
   ]
  },
  {
   "cell_type": "code",
   "execution_count": null,
   "id": "e8942d93",
   "metadata": {},
   "outputs": [],
   "source": [
    "import pandas as pd\n",
    "import numpy as np\n",
    "import matplotlib.pyplot as plt\n",
    "\n",
    "# Load the insurance dataset\n",
    "df = pd.read_csv('../datasets/insurance.csv')\n",
    "print('Rows, Cols:', df.shape)\n",
    "df.head()\n",
    "df.info()\n",
    "print('\\nMissing values per column:\\n', df.isna().sum())"
   ]
  },
  {
   "cell_type": "markdown",
   "id": "f38ffcef",
   "metadata": {},
   "source": [
    "## Data Loading and Inspection\n",
    "This cell loads the insurance dataset and provides a quick overview, including shape, missing values, and basic info."
   ]
  },
  {
   "cell_type": "code",
   "execution_count": null,
   "id": "978a3e0a",
   "metadata": {},
   "outputs": [],
   "source": [
    "# Clean text columns if present\n",
    "def clean_text(x):\n",
    "    if pd.isna(x):\n",
    "        return x\n",
    "    s = str(x).strip()\n",
    "    s = \" \".join(s.split())\n",
    "    return s\n",
    "\n",
    "for col in [\"sex\", \"region\"]:\n",
    "    if col in df.columns:\n",
    "        df[col] = df[col].apply(clean_text)\n",
    "        df[col] = df[col].str.title()"
   ]
  },
  {
   "cell_type": "markdown",
   "id": "ca9552f4",
   "metadata": {},
   "source": [
    "## Cleaning Text Columns\n",
    "This cell cleans and standardizes text columns such as 'sex' and 'region' for consistency in analysis."
   ]
  },
  {
   "cell_type": "code",
   "execution_count": null,
   "id": "ddb7a775",
   "metadata": {},
   "outputs": [],
   "source": [
    "# Remove duplicates\n",
    "before = df.shape[0]\n",
    "df = df.drop_duplicates()\n",
    "after = df.shape[0]\n",
    "print(f\"Removed {before - after} duplicate rows\")"
   ]
  },
  {
   "cell_type": "markdown",
   "id": "f126dafa",
   "metadata": {},
   "source": [
    "## Removing Duplicates\n",
    "This cell removes duplicate rows from the insurance dataset to ensure data quality."
   ]
  },
  {
   "cell_type": "code",
   "execution_count": null,
   "id": "d90a728f",
   "metadata": {},
   "outputs": [],
   "source": [
    "# Drop irrelevant/noisy column if present\n",
    "if 'random_notes' in df.columns:\n",
    "    df = df.drop(columns=['random_notes'])"
   ]
  },
  {
   "cell_type": "markdown",
   "id": "1e5ab4d8",
   "metadata": {},
   "source": [
    "## Dropping Irrelevant Columns\n",
    "This cell removes columns that are not useful for analysis, such as 'random_notes'."
   ]
  }
 ],
 "metadata": {
  "kernelspec": {
   "display_name": ".venv",
   "language": "python",
   "name": "python3"
  },
  "language_info": {
   "codemirror_mode": {
    "name": "ipython",
    "version": 3
   },
   "file_extension": ".py",
   "mimetype": "text/x-python",
   "name": "python",
   "nbconvert_exporter": "python",
   "pygments_lexer": "ipython3",
   "version": "3.13.3"
  }
 },
 "nbformat": 4,
 "nbformat_minor": 5
}
