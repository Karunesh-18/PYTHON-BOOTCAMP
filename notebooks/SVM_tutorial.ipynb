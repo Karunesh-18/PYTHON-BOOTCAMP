{
 "cells": [
  {
   "cell_type": "markdown",
   "id": "7f15e82e",
   "metadata": {},
   "source": [
    "# SVM Classification Tutorial\n",
    "Generated: 2025-09-13T01:20:38\n",
    "\n",
    "This notebook shows a complete, minimal workflow for **SVM** on a synthetic binary classification dataset with 12 features.\n",
    "\n",
    "**What you'll do:**\n",
    "1. Load the dataset (`svm_data.csv`) with 12 feature columns (`f1..f12`) and a `target` (0/1).\n",
    "2. Explore shapes and basic stats.\n",
    "3. Train/validation split.\n",
    "4. Preprocess (scaling where appropriate).\n",
    "5. Train a SVM classifier with reasonable defaults.\n",
    "6. Evaluate with accuracy, precision, recall, F1, confusion matrix, ROC-AUC.\n",
    "7. Save the fitted model (optional).\n"
   ]
  },
  {
   "cell_type": "code",
   "execution_count": 3,
   "id": "403a4fdc",
   "metadata": {},
   "outputs": [
    {
     "name": "stdout",
     "output_type": "stream",
     "text": [
      "Shape: (800, 13)\n"
     ]
    },
    {
     "data": {
      "text/html": [
       "<div>\n",
       "<style scoped>\n",
       "    .dataframe tbody tr th:only-of-type {\n",
       "        vertical-align: middle;\n",
       "    }\n",
       "\n",
       "    .dataframe tbody tr th {\n",
       "        vertical-align: top;\n",
       "    }\n",
       "\n",
       "    .dataframe thead th {\n",
       "        text-align: right;\n",
       "    }\n",
       "</style>\n",
       "<table border=\"1\" class=\"dataframe\">\n",
       "  <thead>\n",
       "    <tr style=\"text-align: right;\">\n",
       "      <th></th>\n",
       "      <th>f1</th>\n",
       "      <th>f2</th>\n",
       "      <th>f3</th>\n",
       "      <th>f4</th>\n",
       "      <th>f5</th>\n",
       "      <th>f6</th>\n",
       "      <th>f7</th>\n",
       "      <th>f8</th>\n",
       "      <th>f9</th>\n",
       "      <th>f10</th>\n",
       "      <th>f11</th>\n",
       "      <th>f12</th>\n",
       "      <th>target</th>\n",
       "    </tr>\n",
       "  </thead>\n",
       "  <tbody>\n",
       "    <tr>\n",
       "      <th>0</th>\n",
       "      <td>0.375255</td>\n",
       "      <td>0.064923</td>\n",
       "      <td>-2.311704</td>\n",
       "      <td>-4.777166</td>\n",
       "      <td>0.330603</td>\n",
       "      <td>-0.544670</td>\n",
       "      <td>0.764035</td>\n",
       "      <td>-0.075645</td>\n",
       "      <td>-0.871844</td>\n",
       "      <td>-1.057089</td>\n",
       "      <td>-1.237339</td>\n",
       "      <td>2.175342</td>\n",
       "      <td>0</td>\n",
       "    </tr>\n",
       "    <tr>\n",
       "      <th>1</th>\n",
       "      <td>-2.235663</td>\n",
       "      <td>-1.088129</td>\n",
       "      <td>-0.595073</td>\n",
       "      <td>-4.373337</td>\n",
       "      <td>1.746367</td>\n",
       "      <td>-0.916633</td>\n",
       "      <td>0.203139</td>\n",
       "      <td>1.175135</td>\n",
       "      <td>1.111664</td>\n",
       "      <td>-3.724559</td>\n",
       "      <td>-0.480944</td>\n",
       "      <td>0.463340</td>\n",
       "      <td>1</td>\n",
       "    </tr>\n",
       "    <tr>\n",
       "      <th>2</th>\n",
       "      <td>-2.365087</td>\n",
       "      <td>-0.099748</td>\n",
       "      <td>-0.005723</td>\n",
       "      <td>6.803507</td>\n",
       "      <td>-0.478950</td>\n",
       "      <td>-3.858886</td>\n",
       "      <td>-2.428794</td>\n",
       "      <td>-0.987992</td>\n",
       "      <td>0.919224</td>\n",
       "      <td>-1.062754</td>\n",
       "      <td>-0.312670</td>\n",
       "      <td>-5.108230</td>\n",
       "      <td>1</td>\n",
       "    </tr>\n",
       "    <tr>\n",
       "      <th>3</th>\n",
       "      <td>-5.408377</td>\n",
       "      <td>-0.143484</td>\n",
       "      <td>1.030913</td>\n",
       "      <td>-2.837718</td>\n",
       "      <td>0.456914</td>\n",
       "      <td>-3.010713</td>\n",
       "      <td>-3.662786</td>\n",
       "      <td>-0.742657</td>\n",
       "      <td>1.198672</td>\n",
       "      <td>-5.804014</td>\n",
       "      <td>-0.009305</td>\n",
       "      <td>1.039298</td>\n",
       "      <td>1</td>\n",
       "    </tr>\n",
       "    <tr>\n",
       "      <th>4</th>\n",
       "      <td>-0.634205</td>\n",
       "      <td>0.037834</td>\n",
       "      <td>-0.711380</td>\n",
       "      <td>-1.865094</td>\n",
       "      <td>-0.286176</td>\n",
       "      <td>-0.120672</td>\n",
       "      <td>-0.809555</td>\n",
       "      <td>-0.098735</td>\n",
       "      <td>-1.700611</td>\n",
       "      <td>-1.389376</td>\n",
       "      <td>-2.341492</td>\n",
       "      <td>0.079763</td>\n",
       "      <td>0</td>\n",
       "    </tr>\n",
       "  </tbody>\n",
       "</table>\n",
       "</div>"
      ],
      "text/plain": [
       "         f1        f2        f3        f4        f5        f6        f7  \\\n",
       "0  0.375255  0.064923 -2.311704 -4.777166  0.330603 -0.544670  0.764035   \n",
       "1 -2.235663 -1.088129 -0.595073 -4.373337  1.746367 -0.916633  0.203139   \n",
       "2 -2.365087 -0.099748 -0.005723  6.803507 -0.478950 -3.858886 -2.428794   \n",
       "3 -5.408377 -0.143484  1.030913 -2.837718  0.456914 -3.010713 -3.662786   \n",
       "4 -0.634205  0.037834 -0.711380 -1.865094 -0.286176 -0.120672 -0.809555   \n",
       "\n",
       "         f8        f9       f10       f11       f12  target  \n",
       "0 -0.075645 -0.871844 -1.057089 -1.237339  2.175342       0  \n",
       "1  1.175135  1.111664 -3.724559 -0.480944  0.463340       1  \n",
       "2 -0.987992  0.919224 -1.062754 -0.312670 -5.108230       1  \n",
       "3 -0.742657  1.198672 -5.804014 -0.009305  1.039298       1  \n",
       "4 -0.098735 -1.700611 -1.389376 -2.341492  0.079763       0  "
      ]
     },
     "execution_count": 3,
     "metadata": {},
     "output_type": "execute_result"
    }
   ],
   "source": [
    "# Setup\n",
    "import pandas as pd\n",
    "import numpy as np\n",
    "\n",
    "from sklearn.model_selection import train_test_split\n",
    "from sklearn.metrics import accuracy_score, precision_score, recall_score, f1_score, roc_auc_score, confusion_matrix, classification_report, RocCurveDisplay\n",
    "\n",
    "import matplotlib.pyplot as plt\n",
    "\n",
    "# Load data\n",
    "data_path = \"../datasets/svm_data.csv\"\n",
    "df = pd.read_csv(data_path)\n",
    "\n",
    "print(\"Shape:\", df.shape)\n",
    "df.head()"
   ]
  },
  {
   "cell_type": "code",
   "execution_count": 4,
   "id": "b68d0abf",
   "metadata": {},
   "outputs": [
    {
     "name": "stdout",
     "output_type": "stream",
     "text": [
      "        count      mean       std        min       25%       50%       75%  \\\n",
      "f1      800.0 -0.041199  3.286727  -9.525018 -2.400776 -0.498679  1.959757   \n",
      "f2      800.0  0.052210  1.008213  -3.311469 -0.591084  0.012867  0.742629   \n",
      "f3      800.0 -0.582954  1.908158  -5.660832 -1.911627 -0.710077  0.550620   \n",
      "f4      800.0 -0.646907  4.107291 -10.213287 -3.520063 -1.090914  1.814042   \n",
      "f5      800.0 -0.059305  2.108770  -6.013163 -1.580329  0.018715  1.520610   \n",
      "f6      800.0 -0.593740  1.909149  -5.439482 -1.954012 -0.649866  0.765089   \n",
      "f7      800.0 -0.527993  2.021469  -6.275360 -1.861460 -0.670987  0.811801   \n",
      "f8      800.0  0.017340  0.957509  -2.870537 -0.650958 -0.021161  0.671885   \n",
      "f9      800.0 -0.575108  1.944470  -6.821478 -1.935436 -0.511216  0.888228   \n",
      "f10     800.0 -0.504248  1.807616  -5.804014 -1.742855 -0.662261  0.705939   \n",
      "f11     800.0 -0.557558  1.761748  -4.895167 -1.809688 -0.648434  0.651741   \n",
      "f12     800.0  0.110468  2.072497  -6.902099 -1.276041  0.138684  1.535138   \n",
      "target  800.0  0.453750  0.498168   0.000000  0.000000  0.000000  1.000000   \n",
      "\n",
      "              max  \n",
      "f1      12.527850  \n",
      "f2       2.908528  \n",
      "f3       6.531976  \n",
      "f4      14.890792  \n",
      "f5       5.155784  \n",
      "f6       6.125075  \n",
      "f7       5.729307  \n",
      "f8       3.046752  \n",
      "f9       4.832909  \n",
      "f10      6.560764  \n",
      "f11      4.808562  \n",
      "f12      6.042762  \n",
      "target   1.000000  \n",
      "\n",
      "Class distribution:\n",
      " target\n",
      "0    0.54625\n",
      "1    0.45375\n",
      "Name: proportion, dtype: float64\n"
     ]
    }
   ],
   "source": [
    "# Basic EDA\n",
    "print(df.describe().T)\n",
    "print(\"\\nClass distribution:\\n\", df['target'].value_counts(normalize=True).rename('proportion'))"
   ]
  },
  {
   "cell_type": "code",
   "execution_count": 12,
   "id": "a64db7f2",
   "metadata": {},
   "outputs": [
    {
     "data": {
      "text/plain": [
       "((560, 12), (240, 12))"
      ]
     },
     "execution_count": 12,
     "metadata": {},
     "output_type": "execute_result"
    }
   ],
   "source": [
    "# Train/Validation split\n",
    "X = df.drop(columns=['target'])\n",
    "y = df['target']\n",
    "\n",
    "X_train, X_val, y_train, y_val = train_test_split(\n",
    "    X, y, test_size=0.3, random_state=123, stratify=y\n",
    ")\n",
    "\n",
    "X_train.shape, X_val.shape"
   ]
  },
  {
   "cell_type": "code",
   "execution_count": 13,
   "id": "02976a54",
   "metadata": {},
   "outputs": [],
   "source": [
    "# SVM tends to benefit from scaling\n",
    "from sklearn.preprocessing import StandardScaler\n",
    "from sklearn.svm import SVC\n",
    "from sklearn.pipeline import Pipeline\n",
    "\n",
    "pipe = Pipeline([\n",
    "    (\"scaler\", StandardScaler()),\n",
    "    (\"clf\", SVC(kernel=\"rbf\", C=1.0, gamma=\"scale\", probability=True, random_state=123))\n",
    "])\n",
    "\n",
    "pipe.fit(X_train, y_train)\n",
    "y_pred = pipe.predict(X_val)\n",
    "y_proba = pipe.predict_proba(X_val)[:, 1]"
   ]
  },
  {
   "cell_type": "code",
   "execution_count": 14,
   "id": "4bb9be7f",
   "metadata": {},
   "outputs": [
    {
     "name": "stdout",
     "output_type": "stream",
     "text": [
      "Accuracy : 0.950\n",
      "Precision: 0.915\n",
      "Recall   : 0.982\n",
      "F1-score : 0.947\n",
      "ROC AUC  : 0.987\n",
      "\n",
      "Classification Report:\n",
      "               precision    recall  f1-score   support\n",
      "\n",
      "           0       0.98      0.92      0.95       131\n",
      "           1       0.91      0.98      0.95       109\n",
      "\n",
      "    accuracy                           0.95       240\n",
      "   macro avg       0.95      0.95      0.95       240\n",
      "weighted avg       0.95      0.95      0.95       240\n",
      "\n",
      "\n",
      "Confusion Matrix:\n",
      " [[121  10]\n",
      " [  2 107]]\n"
     ]
    },
    {
     "data": {
      "image/png": "[encoded data removed]",
      "text/plain": [
       "<Figure size 640x480 with 1 Axes>"
      ]
     },
     "metadata": {},
     "output_type": "display_data"
    }
   ],
   "source": [
    "# Evaluation\n",
    "acc = accuracy_score(y_val, y_pred)\n",
    "prec = precision_score(y_val, y_pred)\n",
    "rec = recall_score(y_val, y_pred)\n",
    "f1 = f1_score(y_val, y_pred)\n",
    "auc = roc_auc_score(y_val, y_proba)\n",
    "\n",
    "print(f\"Accuracy : {acc:.3f}\")\n",
    "print(f\"Precision: {prec:.3f}\")\n",
    "print(f\"Recall   : {rec:.3f}\")\n",
    "print(f\"F1-score : {f1:.3f}\")\n",
    "print(f\"ROC AUC  : {auc:.3f}\")\n",
    "\n",
    "print(\"\\nClassification Report:\\n\", classification_report(y_val, y_pred))\n",
    "\n",
    "# Confusion matrix\n",
    "cm = confusion_matrix(y_val, y_pred)\n",
    "print(\"\\nConfusion Matrix:\\n\", cm)\n",
    "\n",
    "# ROC Curve (uses matplotlib; no style or color specified)\n",
    "RocCurveDisplay.from_predictions(y_val, y_proba)\n",
    "plt.title(\"ROC Curve\")\n",
    "plt.show()"
   ]
  },
  {
   "cell_type": "code",
   "execution_count": 8,
   "id": "71238d99",
   "metadata": {},
   "outputs": [],
   "source": [
    "# (Optional) Save model with joblib for later reuse\n",
    "# Uncomment to persist\n",
    "# import joblib\n",
    "# joblib.dump(clf if 'clf' in globals() else pipe, \"model.joblib\")\n"
   ]
  }
 ],
 "metadata": {
  "kernelspec": {
   "display_name": ".venv",
   "language": "python",
   "name": "python3"
  },
  "language_info": {
   "codemirror_mode": {
    "name": "ipython",
    "version": 3
   },
   "file_extension": ".py",
   "mimetype": "text/x-python",
   "name": "python",
   "nbconvert_exporter": "python",
   "pygments_lexer": "ipython3",
   "version": "3.13.3"
  }
 },
 "nbformat": 4,
 "nbformat_minor": 5
}
