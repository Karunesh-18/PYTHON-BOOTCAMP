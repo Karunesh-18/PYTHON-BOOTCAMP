{
 "cells": [
  {
   "cell_type": "markdown",
   "id": "6d4a3b73",
   "metadata": {},
   "source": [
    "# Naive_Bayes Classification Tutorial\n",
    "Generated: 2025-09-13T01:20:38\n",
    "\n",
    "This notebook shows a complete, minimal workflow for **Naive_Bayes** on a synthetic binary classification dataset with 12 features.\n",
    "\n",
    "**What you'll do:**\n",
    "1. Load the dataset (`nb_data.csv`) with 12 feature columns (`f1..f12`) and a `target` (0/1).\n",
    "2. Explore shapes and basic stats.\n",
    "3. Train/validation split.\n",
    "4. Preprocess (scaling where appropriate).\n",
    "5. Train a Naive_Bayes classifier with reasonable defaults.\n",
    "6. Evaluate with accuracy, precision, recall, F1, confusion matrix, ROC-AUC.\n",
    "7. Save the fitted model (optional).\n"
   ]
  },
  {
   "cell_type": "code",
   "execution_count": null,
   "id": "80e9b3cd",
   "metadata": {},
   "outputs": [
    {
     "name": "stdout",
     "output_type": "stream",
     "text": [
      "Shape: (800, 13)\n"
     ]
    },
    {
     "data": {
      "text/html": [
       "<div>\n",
       "<style scoped>\n",
       "    .dataframe tbody tr th:only-of-type {\n",
       "        vertical-align: middle;\n",
       "    }\n",
       "\n",
       "    .dataframe tbody tr th {\n",
       "        vertical-align: top;\n",
       "    }\n",
       "\n",
       "    .dataframe thead th {\n",
       "        text-align: right;\n",
       "    }\n",
       "</style>\n",
       "<table border=\"1\" class=\"dataframe\">\n",
       "  <thead>\n",
       "    <tr style=\"text-align: right;\">\n",
       "      <th></th>\n",
       "      <th>f1</th>\n",
       "      <th>f2</th>\n",
       "      <th>f3</th>\n",
       "      <th>f4</th>\n",
       "      <th>f5</th>\n",
       "      <th>f6</th>\n",
       "      <th>f7</th>\n",
       "      <th>f8</th>\n",
       "      <th>f9</th>\n",
       "      <th>f10</th>\n",
       "      <th>f11</th>\n",
       "      <th>f12</th>\n",
       "      <th>target</th>\n",
       "    </tr>\n",
       "  </thead>\n",
       "  <tbody>\n",
       "    <tr>\n",
       "      <th>0</th>\n",
       "      <td>-0.101688</td>\n",
       "      <td>-1.214665</td>\n",
       "      <td>-0.083555</td>\n",
       "      <td>0.078906</td>\n",
       "      <td>-0.932742</td>\n",
       "      <td>-3.575772</td>\n",
       "      <td>2.539723</td>\n",
       "      <td>2.088892</td>\n",
       "      <td>0.685563</td>\n",
       "      <td>-0.550697</td>\n",
       "      <td>1.143114</td>\n",
       "      <td>-0.677925</td>\n",
       "      <td>0</td>\n",
       "    </tr>\n",
       "    <tr>\n",
       "      <th>1</th>\n",
       "      <td>1.249349</td>\n",
       "      <td>0.312470</td>\n",
       "      <td>-1.969932</td>\n",
       "      <td>0.453767</td>\n",
       "      <td>-1.760356</td>\n",
       "      <td>2.173386</td>\n",
       "      <td>-2.714885</td>\n",
       "      <td>-1.060532</td>\n",
       "      <td>-0.997961</td>\n",
       "      <td>4.499695</td>\n",
       "      <td>-0.933677</td>\n",
       "      <td>0.599670</td>\n",
       "      <td>1</td>\n",
       "    </tr>\n",
       "    <tr>\n",
       "      <th>2</th>\n",
       "      <td>0.600324</td>\n",
       "      <td>-0.438864</td>\n",
       "      <td>-3.802462</td>\n",
       "      <td>-0.792446</td>\n",
       "      <td>0.965917</td>\n",
       "      <td>1.388253</td>\n",
       "      <td>-3.475133</td>\n",
       "      <td>-0.089164</td>\n",
       "      <td>0.918202</td>\n",
       "      <td>1.663077</td>\n",
       "      <td>2.712566</td>\n",
       "      <td>-1.826818</td>\n",
       "      <td>1</td>\n",
       "    </tr>\n",
       "    <tr>\n",
       "      <th>3</th>\n",
       "      <td>-0.095528</td>\n",
       "      <td>-4.309413</td>\n",
       "      <td>-3.018990</td>\n",
       "      <td>0.682081</td>\n",
       "      <td>-1.317275</td>\n",
       "      <td>-4.537630</td>\n",
       "      <td>1.917956</td>\n",
       "      <td>-1.698571</td>\n",
       "      <td>0.142698</td>\n",
       "      <td>-0.212774</td>\n",
       "      <td>1.156912</td>\n",
       "      <td>-1.963681</td>\n",
       "      <td>1</td>\n",
       "    </tr>\n",
       "    <tr>\n",
       "      <th>4</th>\n",
       "      <td>1.702611</td>\n",
       "      <td>0.853879</td>\n",
       "      <td>1.089031</td>\n",
       "      <td>1.005598</td>\n",
       "      <td>-2.005895</td>\n",
       "      <td>0.651379</td>\n",
       "      <td>-1.731907</td>\n",
       "      <td>-1.092733</td>\n",
       "      <td>-0.269664</td>\n",
       "      <td>0.387344</td>\n",
       "      <td>-1.067816</td>\n",
       "      <td>0.590665</td>\n",
       "      <td>1</td>\n",
       "    </tr>\n",
       "  </tbody>\n",
       "</table>\n",
       "</div>"
      ],
      "text/plain": [
       "         f1        f2        f3        f4        f5        f6        f7  \\\n",
       "0 -0.101688 -1.214665 -0.083555  0.078906 -0.932742 -3.575772  2.539723   \n",
       "1  1.249349  0.312470 -1.969932  0.453767 -1.760356  2.173386 -2.714885   \n",
       "2  0.600324 -0.438864 -3.802462 -0.792446  0.965917  1.388253 -3.475133   \n",
       "3 -0.095528 -4.309413 -3.018990  0.682081 -1.317275 -4.537630  1.917956   \n",
       "4  1.702611  0.853879  1.089031  1.005598 -2.005895  0.651379 -1.731907   \n",
       "\n",
       "         f8        f9       f10       f11       f12  target  \n",
       "0  2.088892  0.685563 -0.550697  1.143114 -0.677925       0  \n",
       "1 -1.060532 -0.997961  4.499695 -0.933677  0.599670       1  \n",
       "2 -0.089164  0.918202  1.663077  2.712566 -1.826818       1  \n",
       "3 -1.698571  0.142698 -0.212774  1.156912 -1.963681       1  \n",
       "4 -1.092733 -0.269664  0.387344 -1.067816  0.590665       1  "
      ]
     },
     "execution_count": 1,
     "metadata": {},
     "output_type": "execute_result"
    }
   ],
   "source": [
    "# Setup\n",
    "import pandas as pd\n",
    "import numpy as np\n",
    "\n",
    "from sklearn.model_selection import train_test_split\n",
    "from sklearn.metrics import accuracy_score, precision_score, recall_score, f1_score, roc_auc_score, confusion_matrix, classification_report, RocCurveDisplay\n",
    "\n",
    "import matplotlib.pyplot as plt\n",
    "\n",
    "# Load data\n",
    "data_path = \"../datasets/nb_data.csv\"\n",
    "df = pd.read_csv(data_path)\n",
    "\n",
    "print(\"Shape:\", df.shape)\n",
    "df.head()"
   ]
  },
  {
   "cell_type": "code",
   "execution_count": 2,
   "id": "e7d44ab4",
   "metadata": {},
   "outputs": [
    {
     "name": "stdout",
     "output_type": "stream",
     "text": [
      "        count      mean       std       min       25%       50%       75%  \\\n",
      "f1      800.0  0.557943  1.793903 -3.852239 -0.578747  0.672312  1.832625   \n",
      "f2      800.0  0.116505  1.953309 -6.338312 -1.276225  0.293961  1.551605   \n",
      "f3      800.0 -0.355099  2.644170 -8.964776 -1.979203 -0.292100  1.352587   \n",
      "f4      800.0  0.035440  0.992106 -2.848756 -0.629045  0.000758  0.705447   \n",
      "f5      800.0 -0.569049  1.894901 -5.610444 -1.865898 -0.824924  0.475053   \n",
      "f6      800.0 -0.028452  2.627492 -8.053673 -1.776114 -0.125293  1.757913   \n",
      "f7      800.0 -0.674272  2.027364 -6.545181 -2.081778 -0.659074  0.792661   \n",
      "f8      800.0 -0.488039  1.605387 -5.967789 -1.627344 -0.611736  0.778488   \n",
      "f9      800.0 -0.056015  1.002891 -3.494597 -0.727811 -0.116042  0.626261   \n",
      "f10     800.0  0.553977  2.026621 -5.021947 -0.834714  0.474265  1.875923   \n",
      "f11     800.0  0.729387  1.803087 -4.981972 -0.408835  0.816264  1.949140   \n",
      "f12     800.0  0.087006  2.108552 -6.532410 -1.301214  0.272353  1.599574   \n",
      "target  800.0  0.452500  0.498050  0.000000  0.000000  0.000000  1.000000   \n",
      "\n",
      "             max  \n",
      "f1      5.303833  \n",
      "f2      5.253573  \n",
      "f3      7.430999  \n",
      "f4      3.833538  \n",
      "f5      6.640094  \n",
      "f6      7.242381  \n",
      "f7      5.201103  \n",
      "f8      4.006489  \n",
      "f9      3.016607  \n",
      "f10     8.752270  \n",
      "f11     5.610229  \n",
      "f12     5.666925  \n",
      "target  1.000000  \n",
      "\n",
      "Class distribution:\n",
      " target\n",
      "0    0.5475\n",
      "1    0.4525\n",
      "Name: proportion, dtype: float64\n"
     ]
    }
   ],
   "source": [
    "# Basic EDA\n",
    "print(df.describe().T)\n",
    "print(\"\\nClass distribution:\\n\", df['target'].value_counts(normalize=True).rename('proportion'))"
   ]
  },
  {
   "cell_type": "code",
   "execution_count": 3,
   "id": "c92a2bd1",
   "metadata": {},
   "outputs": [
    {
     "data": {
      "text/plain": [
       "((640, 12), (160, 12))"
      ]
     },
     "execution_count": 3,
     "metadata": {},
     "output_type": "execute_result"
    }
   ],
   "source": [
    "# Train/Validation split\n",
    "X = df.drop(columns=['target'])\n",
    "y = df['target']\n",
    "\n",
    "X_train, X_val, y_train, y_val = train_test_split(\n",
    "    X, y, test_size=0.2, random_state=123, stratify=y\n",
    ")\n",
    "\n",
    "X_train.shape, X_val.shape"
   ]
  },
  {
   "cell_type": "code",
   "execution_count": 4,
   "id": "b45d53a6",
   "metadata": {},
   "outputs": [],
   "source": [
    "# Gaussian Naive Bayes (assumes features ~ Gaussian within each class)\n",
    "from sklearn.naive_bayes import GaussianNB\n",
    "\n",
    "clf = GaussianNB()\n",
    "clf.fit(X_train, y_train)\n",
    "y_pred = clf.predict(X_val)\n",
    "\n",
    "# For ROC, some NB implementations provide predict_proba; GaussianNB does.\n",
    "y_proba = clf.predict_proba(X_val)[:, 1]"
   ]
  },
  {
   "cell_type": "code",
   "execution_count": 5,
   "id": "27102395",
   "metadata": {},
   "outputs": [
    {
     "name": "stdout",
     "output_type": "stream",
     "text": [
      "Accuracy : 0.806\n",
      "Precision: 0.789\n",
      "Recall   : 0.778\n",
      "F1-score : 0.783\n",
      "ROC AUC  : 0.908\n",
      "\n",
      "Classification Report:\n",
      "               precision    recall  f1-score   support\n",
      "\n",
      "           0       0.82      0.83      0.82        88\n",
      "           1       0.79      0.78      0.78        72\n",
      "\n",
      "    accuracy                           0.81       160\n",
      "   macro avg       0.80      0.80      0.80       160\n",
      "weighted avg       0.81      0.81      0.81       160\n",
      "\n",
      "\n",
      "Confusion Matrix:\n",
      " [[73 15]\n",
      " [16 56]]\n"
     ]
    },
    {
     "data": {
      "image/png": "[encoded data removed]",
      "text/plain": [
       "<Figure size 640x480 with 1 Axes>"
      ]
     },
     "metadata": {},
     "output_type": "display_data"
    }
   ],
   "source": [
    "# Evaluation\n",
    "acc = accuracy_score(y_val, y_pred)\n",
    "prec = precision_score(y_val, y_pred)\n",
    "rec = recall_score(y_val, y_pred)\n",
    "f1 = f1_score(y_val, y_pred)\n",
    "auc = roc_auc_score(y_val, y_proba)\n",
    "\n",
    "print(f\"Accuracy : {acc:.3f}\")\n",
    "print(f\"Precision: {prec:.3f}\")\n",
    "print(f\"Recall   : {rec:.3f}\")\n",
    "print(f\"F1-score : {f1:.3f}\")\n",
    "print(f\"ROC AUC  : {auc:.3f}\")\n",
    "\n",
    "print(\"\\nClassification Report:\\n\", classification_report(y_val, y_pred))\n",
    "\n",
    "# Confusion matrix\n",
    "cm = confusion_matrix(y_val, y_pred)\n",
    "print(\"\\nConfusion Matrix:\\n\", cm)\n",
    "\n",
    "# ROC Curve (uses matplotlib; no style or color specified)\n",
    "RocCurveDisplay.from_predictions(y_val, y_proba)\n",
    "plt.title(\"ROC Curve\")\n",
    "plt.show()"
   ]
  },
  {
   "cell_type": "code",
   "execution_count": 6,
   "id": "2ccd54bd",
   "metadata": {},
   "outputs": [],
   "source": [
    "# (Optional) Save model with joblib for later reuse\n",
    "# Uncomment to persist\n",
    "# import joblib\n",
    "# joblib.dump(clf if 'clf' in globals() else pipe, \"model.joblib\")\n"
   ]
  }
 ],
 "metadata": {
  "kernelspec": {
   "display_name": ".venv",
   "language": "python",
   "name": "python3"
  },
  "language_info": {
   "codemirror_mode": {
    "name": "ipython",
    "version": 3
   },
   "file_extension": ".py",
   "mimetype": "text/x-python",
   "name": "python",
   "nbconvert_exporter": "python",
   "pygments_lexer": "ipython3",
   "version": "3.13.3"
  }
 },
 "nbformat": 4,
 "nbformat_minor": 5
}
